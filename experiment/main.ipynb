{
 "cells": [
  {
   "cell_type": "code",
   "execution_count": null,
   "metadata": {
    "collapsed": true
   },
   "outputs": [],
   "source": [
    "#reload edited modules automatically\n",
    "%load_ext autoreload\n",
    "%autoreload 2"
   ]
  },
  {
   "cell_type": "code",
   "execution_count": null,
   "metadata": {
    "collapsed": true
   },
   "outputs": [],
   "source": [
    "from utils import create_permuted_mnist_task\n",
    "from model import cnn_model"
   ]
  },
  {
   "cell_type": "code",
   "execution_count": null,
   "metadata": {
    "collapsed": true
   },
   "outputs": [],
   "source": [
    "%matplotlib inline\n",
    "import matplotlib.pyplot as plt\n",
    "import matplotlib.image as mpimg\n",
    "From IPython import display"
   ]
  },
  {
   "cell_type": "code",
   "execution_count": null,
   "metadata": {
    "collapsed": true
   },
   "outputs": [],
   "source": [
    "#ignore the warning messages\n",
    "def warn(*args, **kwargs):\n",
    "    pass\n",
    "import warnings\n",
    "warnings.warn = warn"
   ]
  },
  {
   "cell_type": "code",
   "execution_count": null,
   "metadata": {
    "collapsed": true
   },
   "outputs": [],
   "source": [
    "#Plot the accuracy of test data\n",
    "#Parameters:\n",
    "# - name: the name of the model. It will be used in label\n",
    "# - acc: list of accuracy\n",
    "# - data_num: which data is plotted(D1,D2 or D3)\n",
    "def acc_plot(name,acc,data_num):\n",
    "\tplt.figure(1)\n",
    "\tsub = '31'+str(data_num)\n",
    "\tplt.subplot(sub)\n",
    "\tplt.title('test accuracy on {}th dataset'.format(data_num))\n",
    "\tplt.plot(acc,label=name)\n",
    "\tplt.ylabel('acc')\n",
    "\tplt.xlabel('training time')\n",
    "\tfor i in range(len(acc)-1):\n",
    "\t\tplt.vlines((i+1),0,1,color='r',linestyles='dashed')\n",
    "\tplt.legend(loc='upper right')\n",
    "\tplt.subplots_adjust(wspace=1,hspace=1)\n",
    "\tplt.savefig('./images/permuted.png'.format(name))\n",
    "    display.display(plt.gcf())\n",
    "    display.clear_output(wait=True)\n",
    "    \n",
    "def plot_history(file_name,model,shift=10):\n",
    "    plt.subplot(211)\n",
    "    plt.title('accuracy on current training data')\n",
    "    for i in range(shift):\n",
    "        plt.vlines(self.epoch*(i+1),0,1,color='r',linestyles='dashed')\n",
    "\n",
    "    plt.plot(self.history.history['acc'],label='{}'.format(model))\n",
    "    plt.ylabel('acc')\n",
    "    plt.xlabel('training time')\n",
    "    plt.legend(loc='upper right')\n",
    "    plt.subplot(212)\n",
    "    plt.title('validation accuracy on original data')\n",
    "    plt.plot(self.history.history['val_acc'],label='{}'.format(model))\n",
    "    plt.ylabel('acc')\n",
    "    plt.xlabel('training time')\n",
    "    for i in range(shift):\n",
    "        plt.vlines(self.epoch*(i+1),0,1,color='r',linestyles='dashed')\n",
    "    plt.legend(loc='upper right')\n",
    "    plt.subplots_adjust(wspace=1,hspace=1)\n",
    "    plt.savefig('./images/{}.png'.format(file_name))\n",
    "    display.display(plt.gcf())\n",
    "    display.clear_output(wait=True)"
   ]
  },
  {
   "cell_type": "code",
   "execution_count": null,
   "metadata": {
    "collapsed": true
   },
   "outputs": [],
   "source": [
    "#record the test accuracy\n",
    "def test_acc(model,acc_test_d1,acc_test_d2,acc_test_d3):\n",
    "    acc_test_d1.append(model.evaluate(task[0].test.images,task[0].test.labels))\n",
    "    acc_test_d2.append(model.evaluate(task[1].test.images,task[1].test.labels))\n",
    "    acc_test_d3.append(model.evaluate(task[2].test.images,task[2].test.labels))\n",
    "\n",
    "def save_acc(name,d):\n",
    "\timport json\n",
    "\tfor i in range(3):\n",
    "\t\tpath = './logs/permuted/acc{}/{}.txt'.format(str(i+1),name)\n",
    "\t\twith open(path,'w') as f:\n",
    "\t\t\tjson.dump(d[i],f)"
   ]
  },
  {
   "cell_type": "code",
   "execution_count": null,
   "metadata": {
    "collapsed": true
   },
   "outputs": [],
   "source": [
    "def train(name):\n",
    "\n",
    "    acc_test_d1 = []\n",
    "    acc_test_d2 = []\n",
    "    acc_test_d3 = []\n",
    "    t1_x,t1_y = task[0].train.images,task[0].train.labels\n",
    "    t2_x,t2_y = task[1].train.images,task[1].train.labels\n",
    "    t3_x,t3_y = task[2].train.images,task[2].train.labels\n",
    "\n",
    "    model = cnn_model()\n",
    "    model.val_data(task[0].validation.images,task[0].validation.labels)\n",
    "    model.fit(t1_x,t1_y)\n",
    "\n",
    "\n",
    "    test_acc(model,acc_test_d1,acc_test_d2,acc_test_d3)\n",
    "    \n",
    "    if name == 'kal':\n",
    "        for i in range(1,TASK_NUM):\n",
    "            print('---'*10,i,'---'*10)\n",
    "            model.transfer(task[i].train.images,task[i].train.labels)\n",
    "            test_acc(model,acc_test_d1,acc_test_d2,acc_test_d3)\n",
    "        model.transfer(t1_x,t1_y,num=1)\n",
    "        test_acc(model,acc_test_d1,acc_test_d2,acc_test_d3)\n",
    "        model.transfer(t1_x,t1_y,num=2)\n",
    "        test_acc(model,acc_test_d1,acc_test_d2,acc_test_d3)\n",
    "        model.transfer(t1_x,t1_y,num=3)\n",
    "        test_acc(model,acc_test_d1,acc_test_d2,acc_test_d3)\n",
    "\n",
    "    if name == 'nor':\n",
    "        for i in range(1,TASK_NUM):\n",
    "            print('---'*10,i,'---'*10)\n",
    "            model.fit(task[i].train.images,task[i].train.labels)\n",
    "            test_acc(model,acc_test_d1,acc_test_d2,acc_test_d3)\n",
    "        model.fit(t1_x,t1_y)\n",
    "        test_acc(model,acc_test_d1,acc_test_d2,acc_test_d3)\n",
    "\n",
    "    model.save(name)\n",
    "    history = model.get_history()\n",
    "    \n",
    "    return acc_test_d1,acc_test_d2,acc_test_d3"
   ]
  },
  {
   "cell_type": "code",
   "execution_count": null,
   "metadata": {
    "collapsed": true
   },
   "outputs": [],
   "source": [
    "#Load the drift data\n",
    "TASK_NUM = 10\n",
    "task = create_permuted_mnist_task(TASK_NUM)"
   ]
  },
  {
   "cell_type": "code",
   "execution_count": null,
   "metadata": {
    "collapsed": true
   },
   "outputs": [],
   "source": [
    "print('--'*10,'kal','--'*10)\n",
    "kal_d1,kal_d2,kal_d3 = train('kal')\n",
    "save_acc('kal',[kal_d1,kal_d2,kal_d3])"
   ]
  },
  {
   "cell_type": "code",
   "execution_count": null,
   "metadata": {
    "collapsed": true
   },
   "outputs": [],
   "source": []
  },
  {
   "cell_type": "code",
   "execution_count": null,
   "metadata": {
    "collapsed": true
   },
   "outputs": [],
   "source": [
    "print('--' * 10, 'nor', '--' * 10)\n",
    "nor_d1, nor_d2, nor_d3 = train('nor')\n",
    "save_acc('nor', [nor_d1, nor_d2, nor_d3])"
   ]
  }
 ],
 "metadata": {
  "kernelspec": {
   "display_name": "Python 3",
   "language": "python",
   "name": "python3"
  },
  "language_info": {
   "codemirror_mode": {
    "name": "ipython",
    "version": 3
   },
   "file_extension": ".py",
   "mimetype": "text/x-python",
   "name": "python",
   "nbconvert_exporter": "python",
   "pygments_lexer": "ipython3",
   "version": "3.6.2"
  }
 },
 "nbformat": 4,
 "nbformat_minor": 2
}
