{
 "cells": [
  {
   "cell_type": "code",
   "execution_count": null,
   "metadata": {
    "collapsed": true
   },
   "outputs": [],
   "source": [
    "#reload edited modules automatically\n",
    "%load_ext autoreload\n",
    "%autoreload 2"
   ]
  },
  {
   "cell_type": "code",
   "execution_count": null,
   "metadata": {
    "collapsed": true
   },
   "outputs": [],
   "source": [
    "import os\n",
    "os.environ['KERAS_BACKEND'] = 'plaidml.keras.backend'\n",
    "from utils import create_disjoint_cifar10_task,Cifar10\n",
    "from model import cnn_model\n",
    "import matplotlib.pyplot as plt\n",
    "from information import Info\n",
    "from copy import deepcopy\n"
   ]
  },
  {
   "cell_type": "code",
   "execution_count": null,
   "metadata": {
    "collapsed": true
   },
   "outputs": [],
   "source": [
    "#igore the warning messages. Cause the kal drawback is slower than normal process, keras \n",
    "#will print some warning messages.\n",
    "def warn(*args, **kwargs):\n",
    "    pass\n",
    "import warnings\n",
    "warnings.warn = warn"
   ]
  },
  {
   "cell_type": "code",
   "execution_count": null,
   "metadata": {
    "collapsed": true
   },
   "outputs": [],
   "source": [
    "#Plot the accuracy of test data\n",
    "#Parameters:\n",
    "# - name: the name of the model. It will be used in label\n",
    "# - acc: list of accuracy\n",
    "# - data_num: which data is plotted(D1,D2 or D3)\n",
    "def acc_plot(name,acc,data_num):\n",
    "\tplt.figure(1)\n",
    "\tsub = '31'+str(data_num)\n",
    "\tplt.subplot(sub)\n",
    "\tplt.title('test accuracy on {}th dataset'.format(data_num))\n",
    "\tplt.plot(acc,label=name)\n",
    "\tplt.ylabel('acc')\n",
    "\tplt.xlabel('training time')\n",
    "\tfor i in range(len(acc)-1):\n",
    "\t\tplt.vlines((i+1),0,1,color='r',linestyles='dashed')\n",
    "\tplt.legend(loc='upper right')\n",
    "\tplt.subplots_adjust(wspace=1,hspace=1)\n",
    "\tplt.savefig('./images/permuted.png'.format(name))\n",
    "    display.display(plt.gcf())\n",
    "    display.clear_output(wait=True)\n",
    "    \n",
    "def plot_history(file_name,model,shift=10):\n",
    "    plt.subplot(211)\n",
    "    plt.title('accuracy on current training data')\n",
    "    for i in range(shift):\n",
    "        plt.vlines(self.epoch*(i+1),0,1,color='r',linestyles='dashed')\n",
    "\n",
    "    plt.plot(self.history.history['acc'],label='{}'.format(model))\n",
    "    plt.ylabel('acc')\n",
    "    plt.xlabel('training time')\n",
    "    plt.legend(loc='upper right')\n",
    "    plt.subplot(212)\n",
    "    plt.title('validation accuracy on original data')\n",
    "    plt.plot(self.history.history['val_acc'],label='{}'.format(model))\n",
    "    plt.ylabel('acc')\n",
    "    plt.xlabel('training time')\n",
    "    for i in range(shift):\n",
    "        plt.vlines(self.epoch*(i+1),0,1,color='r',linestyles='dashed')\n",
    "    plt.legend(loc='upper right')\n",
    "    plt.subplots_adjust(wspace=1,hspace=1)\n",
    "    plt.savefig('./images/{}.png'.format(file_name))\n",
    "    display.display(plt.gcf())\n",
    "    display.clear_output(wait=True)"
   ]
  },
  {
   "cell_type": "code",
   "execution_count": null,
   "metadata": {
    "collapsed": true
   },
   "outputs": [],
   "source": [
    "def test_acc(model,acc_test_d1,acc_test_d2,acc_test_d3):\n",
    "    acc_test_d1.append(model.evaluate(task.test.images[test_index[0]],task.test.labels[test_index[0]]))\n",
    "    acc_test_d2.append(model.evaluate(task.test.images[test_index[1]],task.test.labels[test_index[1]]))\n",
    "    acc_test_d3.append(model.evaluate(task.test.images[test_index[2]],task.test.labels[test_index[2]]))\n",
    "\n",
    "def save_acc(name,d):\n",
    "\timport json\n",
    "\tfor i in range(3):\n",
    "\t\tpath = './logs/permuted/acc{}/{}.txt'.format(str(i+1),name)\n",
    "\t\twith open(path,'w') as f:\n",
    "\t\t\tjson.dump(d[i],f)"
   ]
  },
  {
   "cell_type": "code",
   "execution_count": null,
   "metadata": {
    "collapsed": true
   },
   "outputs": [],
   "source": [
    "def train(name):\n",
    "    \n",
    "    acc_test_d1 = []\n",
    "    acc_test_d2 = []\n",
    "    acc_test_d3 = []\n",
    "    t1_x,t1_y = task.train.images[train_index[0]],task.train.labels[train_index[0]]\n",
    "    t2_x,t2_y = task.train.images[train_index[1]],task.train.labels[train_index[1]]\n",
    "    t3_x,t3_y = task.train.images[train_index[2]],task.train.labels[train_index[2]]\n",
    "    \n",
    "    #t4_x,t4_y = task[3].train.images,task[3].train.labels\n",
    "    #t5_x,t5_y = task[4].train.images,task[4].train.labels\n",
    "    \n",
    "    \n",
    "    \n",
    "    model = cnn_model()\n",
    "    model.val_data(task.validation.images[vali_index[0]],task.validation.labels[vali_index[0]])\n",
    "    model.fit(t1_x,t1_y)\n",
    "        \n",
    "        \n",
    "\n",
    "    test_acc(model,acc_test_d1,acc_test_d2,acc_test_d3)\n",
    "    \n",
    "    if name == 'kal':\n",
    "        model.transfer(t2_x,t2_y)\n",
    "        test_acc(model,acc_test_d1,acc_test_d2,acc_test_d3)\n",
    "        model.transfer(t2_x,t2_y,num=2)\n",
    "        test_acc(model,acc_test_d1,acc_test_d2,acc_test_d3)\n",
    "        model.transfer(t3_x,t3_y)\n",
    "        test_acc(model,acc_test_d1,acc_test_d2,acc_test_d3)\n",
    "        model.transfer(t3_x,t3_y,num=3)\n",
    "        test_acc(model,acc_test_d1,acc_test_d2,acc_test_d3)\n",
    "        '''\n",
    "        model.transfer(t4_x,t4_y)\n",
    "        test_acc(model,acc_test_d1,acc_test_d2,acc_test_d3)\n",
    "        model.transfer(t5_x,t5_y)\n",
    "        test_acc(model,acc_test_d1,acc_test_d2,acc_test_d3)\n",
    "        '''\n",
    "    if name == 'kal_pre':\n",
    "        model.use_pre(t2_x,t2_y)\n",
    "        test_acc(model,acc_test_d1,acc_test_d2,acc_test_d3)\n",
    "        model.use_pre(t3_x,t3_y)\n",
    "        test_acc(model,acc_test_d1,acc_test_d2,acc_test_d3)\n",
    "    if name == 'kal_cur':\n",
    "        model.use_cur(t2_x,t2_y)\n",
    "        test_acc(model,acc_test_d1,acc_test_d2,acc_test_d3)\n",
    "        model.use_cur(t3_x,t3_y)\n",
    "        test_acc(model,acc_test_d1,acc_test_d2,acc_test_d3)\n",
    "    if name == 'nor':\n",
    "        model.fit(t2_x,t2_y)\n",
    "        test_acc(model,acc_test_d1,acc_test_d2,acc_test_d3)\n",
    "        model.fit(t3_x,t3_y)\n",
    "        test_acc(model,acc_test_d1,acc_test_d2,acc_test_d3)\n",
    "        '''\n",
    "        model.fit(t4_x,t4_y)\n",
    "        test_acc(model,acc_test_d1,acc_test_d2,acc_test_d3)\n",
    "        model.fit(t5_x,t5_y)\n",
    "        test_acc(model,acc_test_d1,acc_test_d2,acc_test_d3)\n",
    "        '''\n",
    "\n",
    "\n",
    "    model.save(name)\n",
    "    model.plot('res',name)\n",
    "    \n",
    "    return acc_test_d1,acc_test_d2,acc_test_d3"
   ]
  },
  {
   "cell_type": "code",
   "execution_count": null,
   "metadata": {
    "collapsed": true
   },
   "outputs": [],
   "source": [
    "task = Cifar10(True)\n",
    "train_index,test_index,vali_index = create_disjoint_cifar10_task()"
   ]
  }
 ],
 "metadata": {
  "kernelspec": {
   "display_name": "Python 3",
   "language": "python",
   "name": "python3"
  },
  "language_info": {
   "codemirror_mode": {
    "name": "ipython",
    "version": 3
   },
   "file_extension": ".py",
   "mimetype": "text/x-python",
   "name": "python",
   "nbconvert_exporter": "python",
   "pygments_lexer": "ipython3",
   "version": "3.6.2"
  }
 },
 "nbformat": 4,
 "nbformat_minor": 2
}
